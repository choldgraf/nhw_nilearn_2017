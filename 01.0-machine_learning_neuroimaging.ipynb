{
 "cells": [
  {
   "cell_type": "markdown",
   "metadata": {},
   "source": [
    "# Machine learning in neuroimaging\n",
    "Machine learning is inherently about prediction, so using machine learning in the context of brain activity comes down to this question:\n",
    "\n",
    "**Can I use information about the world to predict patterns of brain activity** (or vice versa)\n",
    "\n",
    "These tutorials aim to get you started with machine learning in the context of neuroimaging. They won't cover the basics of machine learning itself, but instead focus on these tools with fMRI data. They'll introduce a few tools in the python ecosystem that makes this possible."
   ]
  },
  {
   "cell_type": "markdown",
   "metadata": {},
   "source": [
    "## Basic tools for reprsenting neural data in python\n",
    "* [Manipulating neuroimaging data in python](01.1_data_objects_and_plotting.ipynb)\n",
    "* [Connecting neuroimaging data with scikit-learn](01.2-fmri_to_sklearn.ipynb)\n",
    "\n",
    "## Two flavors of machine learning in neuroscience\n",
    "\n",
    "* [Decoding Models (brain -> world)](01.3-decoding_haxby.ipynb)\n",
    "* [Encoding Models (world -> brain)](01.4-encoding_miyawaki.ipynb)"
   ]
  },
  {
   "cell_type": "markdown",
   "metadata": {
    "collapsed": true
   },
   "source": [
    "# Extra resources\n",
    "\n",
    "There are a lot of great resources out there in the world of machine learning for neuroimaging. Here are a few links you may find useful:\n",
    "\n",
    "* [A short notebook covering cross-validation methods](01.5-cross_validation.ipynb)\n",
    "* [Documentation for machine learning in electrophysiology](https://martinos.org/mne/dev/documentation.html)\n",
    "* [Documentation for machine learning in neuroimaging](http://nilearn.github.io/user_guide.html)"
   ]
  },
  {
   "cell_type": "code",
   "execution_count": null,
   "metadata": {
    "collapsed": true
   },
   "outputs": [],
   "source": []
  }
 ],
 "metadata": {
  "kernelspec": {
   "display_name": "Python 3",
   "language": "python",
   "name": "python3"
  },
  "language_info": {
   "codemirror_mode": {
    "name": "ipython",
    "version": 3
   },
   "file_extension": ".py",
   "mimetype": "text/x-python",
   "name": "python",
   "nbconvert_exporter": "python",
   "pygments_lexer": "ipython3",
   "version": "3.6.1"
  }
 },
 "nbformat": 4,
 "nbformat_minor": 2
}
