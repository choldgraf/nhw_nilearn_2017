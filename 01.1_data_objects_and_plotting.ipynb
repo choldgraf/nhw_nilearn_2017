{
 "cells": [
  {
   "cell_type": "code",
   "execution_count": null,
   "metadata": {
    "collapsed": true
   },
   "outputs": [],
   "source": [
    "%matplotlib inline\n",
    "import warnings\n",
    "warnings.filterwarnings(\"ignore\")\n",
    "\n",
    "from nilearn import datasets\n",
    "from nilearn import image\n",
    "\n",
    "import nibabel as nb\n",
    "import os.path as op"
   ]
  },
  {
   "cell_type": "markdown",
   "metadata": {},
   "source": [
    "# About this tutorial\n",
    "Performing machine learning on neuroimaging data means we need to be able to load / manipulate / visualize the neural data in the first place.\n",
    "\n",
    "Here we'll cover how to work with 3D and 4D neural images, with a focus on the following topics:\n",
    "\n",
    "* Loading neuroimaging data from disk\n",
    "* Accessing the raw data and its properties\n",
    "* Doing some simple visualizations of the data (in 3D and over a 4th dimension such as time)\n",
    "\n",
    "We'll focus on the following packages:\n",
    "\n",
    "* nibabel\n",
    "* nilearn\n",
    "\n",
    "# 3D and 4D niimgs: handling and visualizing\n",
    "\n",
    "In python, volume data is represented in a common format called \"nifty\" format. It has the extension `.nii` or `.nii.gz`. There are many packages for deadling with this format in python, though the most common is called `nibabel`."
   ]
  },
  {
   "cell_type": "markdown",
   "metadata": {},
   "source": [
    "## Downloading tutorial datasets from Internet\n",
    "\n",
    "In this tutorial we won't do any analysis, but instead will take a look at the *results* of a previous analysis. \n",
    "\n",
    "Nilearn comes with functions that download public data from Internet. These are common or well-known tasks in neuroscience that have been made public by the researchers. These can be accessed with the following command:\n",
    "\n",
    "```\n",
    "from nilearn import datasets\n",
    "datasets.fetch_<tab>\n",
    "```\n",
    "\n",
    "You should see a list of possible datasets to download. Let's now retrieve the maps of the MSDL atlas.\n",
    "\n",
    "**Note that most datasets don't simply return raw data, but an object with metadata included**"
   ]
  },
  {
   "cell_type": "code",
   "execution_count": null,
   "metadata": {},
   "outputs": [],
   "source": [
    "data = datasets.fetch_atlas_msdl()\n",
    "print(data['description'].decode('utf-8'))"
   ]
  },
  {
   "cell_type": "code",
   "execution_count": null,
   "metadata": {},
   "outputs": [],
   "source": [
    "map_filename = data['maps']\n",
    "print(map_filename)"
   ]
  },
  {
   "cell_type": "markdown",
   "metadata": {},
   "source": [
    "Just as before, we can see that this dataset is well-described. It looks like we have the raw activity for the data in the `func` field, while the statistical maps are stored in `tmaps`. Let's take a look at this and visualize the statistic on the brain."
   ]
  },
  {
   "cell_type": "markdown",
   "metadata": {},
   "source": [
    "# Loading a Nifti file\n",
    "\n",
    "\n",
    "## Nifti format structure\n",
    "Volume files are generally represented in \"nifty\" format in python. These might represent neural activity, or statistics calculated from neural activity. They are easy to read with the `nibabel` package."
   ]
  },
  {
   "cell_type": "code",
   "execution_count": null,
   "metadata": {
    "collapsed": true
   },
   "outputs": [],
   "source": [
    "# Now load the data\n",
    "brain = nb.load(map_filename)"
   ]
  },
  {
   "cell_type": "markdown",
   "metadata": {},
   "source": [
    "### Nifti files contain metadata + data\n",
    "If you look inside `brain`, you'll find a number of methods and attributes in python that let you do different things with it. For example, we could return the transformation matrix to switch coordinate spaces:"
   ]
  },
  {
   "cell_type": "code",
   "execution_count": null,
   "metadata": {},
   "outputs": [],
   "source": [
    "brain.affine"
   ]
  },
  {
   "cell_type": "markdown",
   "metadata": {},
   "source": [
    "However, here we will focus on the raw data itslef. The data for this volume is stored in the object, and we can access it as a numpy array:"
   ]
  },
  {
   "cell_type": "code",
   "execution_count": null,
   "metadata": {},
   "outputs": [],
   "source": [
    "brain.get_data()[:2]"
   ]
  },
  {
   "cell_type": "markdown",
   "metadata": {},
   "source": [
    "**Note: the final dimension of a Nifti file is often time, but here it actually represents different functional regions. Make sure that you check the metadata of our dataset to determine this any data you work with.**"
   ]
  },
  {
   "cell_type": "code",
   "execution_count": null,
   "metadata": {},
   "outputs": [],
   "source": [
    "# This is the dimensionality of the volume\n",
    "# it is 4D, AKA activity in x/y/z space over some final dimension\n",
    "brain.get_data().shape"
   ]
  },
  {
   "cell_type": "markdown",
   "metadata": {},
   "source": [
    "With `nilearn`, we can do some quick plotting simply by pointing to the file name. That way we don't have to load in the data manually.\n",
    "\n",
    "## Visualizing the file\n",
    "\n",
    "The file contains a 4volume, and we can easily visualize it as a\n",
    "statistical map. `nilearn` has a number of functions for visualizing neuroimaging maps. These will generally take either a nifti object, or a file path to a nifti object.\n",
    "\n",
    "**If we wish to plot a single image, we need to choose a moment in time. Here's we'll use the `index_img` function to do this.**"
   ]
  },
  {
   "cell_type": "code",
   "execution_count": null,
   "metadata": {
    "collapsed": true
   },
   "outputs": [],
   "source": [
    "from nilearn import plotting"
   ]
  },
  {
   "cell_type": "code",
   "execution_count": null,
   "metadata": {},
   "outputs": [],
   "source": [
    "# Here we'll load the nifty object according to the statistical map\n",
    "# tmap = nb.load(map_filename)\n",
    "\n",
    "# Then plot it\n",
    "plotting.plot_stat_map(image.index_img(brain, 3))\n",
    "\n",
    "# Alternatively, we could simply point it to the filename\n",
    "# plotting.plot_stat_map(image.index_img(map_filename, 3))"
   ]
  },
  {
   "cell_type": "markdown",
   "metadata": {},
   "source": [
    "Note that the plotted background image was automatically assumed to be an MNI brain. If you have your own MRI images you can use these as well.\n",
    "\n",
    "### Manipulating the image\n",
    "\n",
    "**...with thresholds**\n",
    "\n",
    "We can also do simple manipulations of the visualization, such as applying a threshold:"
   ]
  },
  {
   "cell_type": "code",
   "execution_count": null,
   "metadata": {},
   "outputs": [],
   "source": [
    "plotting.plot_stat_map(image.index_img(map_filename, 3), threshold=.3)"
   ]
  },
  {
   "cell_type": "markdown",
   "metadata": {},
   "source": [
    "**...with different views**\n",
    "\n",
    "If you wish to see a collection of slices across an axis, you can use the `display_mode` argument:"
   ]
  },
  {
   "cell_type": "code",
   "execution_count": null,
   "metadata": {},
   "outputs": [],
   "source": [
    "# For the y-axis\n",
    "plotting.plot_stat_map(image.index_img(map_filename, 3), threshold=.3, display_mode='y')"
   ]
  },
  {
   "cell_type": "markdown",
   "metadata": {},
   "source": [
    "**...with more slices**\n",
    "\n",
    "You can also define the number of slices that are displayed by passing an integer to the `cut_coords` parameter."
   ]
  },
  {
   "cell_type": "code",
   "execution_count": null,
   "metadata": {},
   "outputs": [],
   "source": [
    "plotting.plot_stat_map(image.index_img(map_filename, 3), threshold=.3,\n",
    "                       display_mode='z', cut_coords=10)"
   ]
  },
  {
   "cell_type": "markdown",
   "metadata": {},
   "source": [
    "# Looping on all volumes in a 4D file\n",
    "\n",
    "If we want to plot all the volumes in this 4D file, we can use iter_img\n",
    "to loop on them. This is similar to plotting statistical maps as you move down a particular axis of the 3-D brain, but you're looping across time instead.\n",
    "\n",
    "Then we give a few arguments to plot_stat_map in order to have a more\n",
    "compact display. We'll plot a single slice of the z-axis over time."
   ]
  },
  {
   "cell_type": "code",
   "execution_count": null,
   "metadata": {},
   "outputs": [],
   "source": [
    "for ii, img in enumerate(image.iter_img(map_filename)):\n",
    "    if ii > 5:\n",
    "        # This causes us to skip after the first 5 plots\n",
    "        continue\n",
    "\n",
    "    # img is now an in-memory 3D img\n",
    "    plotting.plot_stat_map(img, threshold=.1, colorbar=False,\n",
    "                           cut_coords=(0, 0, 0))\n",
    "    \n"
   ]
  },
  {
   "cell_type": "markdown",
   "metadata": {},
   "source": [
    "# Recap\n",
    "To recap, neuroimaging images (niimgs as we call them) come in\n",
    "different flavors:\n",
    "\n",
    "* 3D images, containing only one brain volume\n",
    "* 4D images, containing multiple brain volumes.\n",
    "\n",
    "More details about the input formats in nilearn for 3D and 4D images is\n",
    "given in the documentation section for nilearn.\n",
    "\n",
    "Functions accept either 3D or 4D images, and we need to use these with either `nilearn.image.index_img` or `nilearn.image.iter_img`\n",
    "to break down 4D images into 3D images.\n",
    "\n",
    "**Note: There are many other types of neuroimaging data (e.g., surfaces, diffusion maps, etc). In general, `nibabel` should be able to read them with `nb.load` if they're in a standard nifti-style format.**"
   ]
  }
 ],
 "metadata": {
  "anaconda-cloud": {},
  "kernelspec": {
   "display_name": "Python 3",
   "language": "python",
   "name": "python3"
  },
  "language_info": {
   "codemirror_mode": {
    "name": "ipython",
    "version": 3
   },
   "file_extension": ".py",
   "mimetype": "text/x-python",
   "name": "python",
   "nbconvert_exporter": "python",
   "pygments_lexer": "ipython3",
   "version": "3.6.1"
  }
 },
 "nbformat": 4,
 "nbformat_minor": 2
}
